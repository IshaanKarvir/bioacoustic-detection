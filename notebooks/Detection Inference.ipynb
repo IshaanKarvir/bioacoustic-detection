{
 "cells": [
  {
   "cell_type": "code",
   "execution_count": 1,
   "metadata": {},
   "outputs": [],
   "source": [
    "import os\n",
    "from os import path\n",
    "import glob\n",
    "import librosa\n",
    "from tqdm import tqdm\n",
    "import pandas as pd\n",
    "import json\n",
    "import matplotlib\n",
    "import matplotlib.pyplot as plt\n",
    "\n",
    "import io\n",
    "import scipy.misc\n",
    "import numpy as np\n",
    "from six import BytesIO\n",
    "from PIL import Image, ImageDraw, ImageFont\n",
    "\n",
    "import tensorflow as tf\n",
    "\n",
    "from object_detection.utils import label_map_util\n",
    "from object_detection.utils import config_util\n",
    "from object_detection.utils import visualization_utils as viz_utils\n",
    "from object_detection.builders import model_builder\n",
    "\n",
    "%matplotlib inline"
   ]
  },
  {
   "cell_type": "markdown",
   "metadata": {},
   "source": [
    "# Utilities"
   ]
  },
  {
   "cell_type": "code",
   "execution_count": 2,
   "metadata": {},
   "outputs": [],
   "source": [
    "def load_image_into_numpy_array(path):\n",
    "    \"\"\"Load an image from file into a numpy array.\n",
    "\n",
    "    Puts image into numpy array to feed into tensorflow graph.\n",
    "    Note that by convention we put it into a numpy array with shape\n",
    "    (height, width, channels), where channels=3 for RGB.\n",
    "\n",
    "    Args:\n",
    "    path: the file path to the image\n",
    "\n",
    "    Returns:\n",
    "    uint8 numpy array with shape (img_height, img_width, 3)\n",
    "    \"\"\"\n",
    "    img_data = tf.io.gfile.GFile(path, 'rb').read()\n",
    "    image = Image.open(BytesIO(img_data))\n",
    "    (im_width, im_height) = image.size\n",
    "    return np.broadcast_to(np.array(image.getdata()).reshape((im_height, im_width, 1)).astype(np.uint8),\n",
    "                           (im_height, im_width, 3))"
   ]
  },
  {
   "cell_type": "code",
   "execution_count": 3,
   "metadata": {},
   "outputs": [],
   "source": [
    "dataset_dir = \"/home/jackson/Projects/marine-acoustics-2021/data/spectrograms-1600Hz-15s-300px-PCEN-082521/\"\n",
    "dataset_metadata_name = \"dataset_metadata.txt\"\n",
    "eval_ids = [\n",
    "    \"671658014.180928183606\",\n",
    "    \"671658014.180928213604\",\n",
    "    \"671658014.180929063556\",\n",
    "    \"671658014.180929093553\",\n",
    "    \"671658014.180929183547\",\n",
    "    \"671658014.180930153534\"\n",
    "]\n",
    "min_score = 0.2\n",
    "\n",
    "with open(path.join(dataset_dir, dataset_metadata_name)) as json_file:\n",
    "    dataset_metadata = json.load(json_file)\n",
    "\n",
    "eval_image_paths = []\n",
    "for eid in eval_ids:\n",
    "    eval_image_paths.extend(glob.glob(os.path.join(dataset_dir, \"{}-*.png\".format(eid))))\n",
    "    \n",
    "image_duration = dataset_metadata[\"EVAL_CHUNK_SIZE_SEC\"]\n",
    "image_duration_step = dataset_metadata[\"EVAL_CHUNK_STEP_SEC\"]\n",
    "\n",
    "freq_axis_low, freq_axis_high = librosa.hz_to_mel(0.0), librosa.hz_to_mel(dataset_metadata[\"FREQUENCY_MAX\"])\n",
    "freq_axis_diff = freq_axis_high - freq_axis_low"
   ]
  },
  {
   "cell_type": "code",
   "execution_count": 4,
   "metadata": {},
   "outputs": [],
   "source": [
    "MODELS = {'baseline_run1': 'baseline_ssd_300x300_mobilenet_v2',\n",
    "          'baseline_run2': 'baseline_ssd_300x300_mobilenet_v2_run2',\n",
    "          'PCEN_run1': 'PCEN_ssd_300x300_mobilenet_v2',\n",
    "          'PCEN_run2': 'PCEN_ssd_300x300_mobilenet_v2_run2'}\n",
    "\n",
    "model_display_name = 'PCEN_run2'\n",
    "model_ckpt_num = 'ckpt-55'\n",
    "model_name = MODELS[model_display_name]"
   ]
  },
  {
   "cell_type": "code",
   "execution_count": 5,
   "metadata": {
    "scrolled": false
   },
   "outputs": [
    {
     "data": {
      "text/plain": [
       "<tensorflow.python.training.tracking.util.CheckpointLoadStatus at 0x7f6a441901f0>"
      ]
     },
     "execution_count": 5,
     "metadata": {},
     "output_type": "execute_result"
    }
   ],
   "source": [
    "pipeline_config = os.path.join('/home/jackson/Projects/marine-acoustics-2021/models',\n",
    "                                model_name, 'baseline.config')\n",
    "model_dir = os.path.join('/home/jackson/Projects/marine-acoustics-2021/models',\n",
    "                                model_name)\n",
    "\n",
    "# Load pipeline config and build a detection model\n",
    "configs = config_util.get_configs_from_pipeline_file(pipeline_config)\n",
    "model_config = configs['model']\n",
    "detection_model = model_builder.build(\n",
    "      model_config=model_config, is_training=False)\n",
    "\n",
    "# Restore checkpoint\n",
    "ckpt = tf.compat.v2.train.Checkpoint(\n",
    "      model=detection_model)\n",
    "ckpt.restore(os.path.join(model_dir, model_ckpt_num)).expect_partial()"
   ]
  },
  {
   "cell_type": "code",
   "execution_count": 6,
   "metadata": {},
   "outputs": [],
   "source": [
    "def get_model_detection_function(model):\n",
    "    \"\"\"Get a tf.function for detection.\"\"\"\n",
    "\n",
    "    @tf.function\n",
    "    def detect_fn(image):\n",
    "        \"\"\"Detect objects in image.\"\"\"\n",
    "\n",
    "        image, shapes = model.preprocess(image)\n",
    "        prediction_dict = model.predict(image, shapes)\n",
    "        detections = model.postprocess(prediction_dict, shapes)\n",
    "\n",
    "        return detections, prediction_dict, tf.reshape(shapes, [-1])\n",
    "\n",
    "    return detect_fn\n",
    "\n",
    "detect_fn = get_model_detection_function(detection_model)"
   ]
  },
  {
   "cell_type": "code",
   "execution_count": 7,
   "metadata": {},
   "outputs": [],
   "source": [
    "# Also called \"Jaccard Index\"\n",
    "def IOU(box1, box2):\n",
    "    # (left, right, top, bottom) is the box order\n",
    "    l1, r1, t1, b1 = box1\n",
    "    l2, r2, t2, b2 = box2\n",
    "    \n",
    "    # Quick check if boxes do not overlap\n",
    "    # Time dimension (r/l) checked first since it is more likely to filter\n",
    "    if r1 < l2 or r2 < l1 or t1 < b2 or t2 < b1:\n",
    "        return 0.0\n",
    "    \n",
    "    # IOU Calculation\n",
    "    intersection_area = (min(r1, r2) - max(l1, l2)) * (min(t1, t2) - max(b1, b2))\n",
    "    union_area = (r1 - l1) * (t1 - b1) + (r2 - l2) * (t2 - b2) - intersection_area\n",
    "    \n",
    "    return intersection_area / union_area\n",
    "\n",
    "\n",
    "def calculate_agreements(annotations, verbose=True):\n",
    "    agreements = np.zeros(shape=(len(annotations), len(annotations)))\n",
    "    iter1 = range(len(annotations))\n",
    "    if verbose:\n",
    "        iter1 = tqdm(iter1, desc='Calculating Agreements')\n",
    "    for i1 in iter1:\n",
    "        a1 = annotations.iloc[i1]\n",
    "        mask = ((annotations[\"Begin Time (s)\"] > a1[\"End Time (s)\"])\n",
    "                | (annotations[\"End Time (s)\"] < a1[\"Begin Time (s)\"]))\n",
    "        for i2 in (~mask).to_numpy().nonzero()[0]:\n",
    "            a2 = annotations.iloc[i2]\n",
    "            # Left, Right, Top, Bottom\n",
    "            agreements[i1, i2] = IOU((a1[\"Begin Time (s)\"],\n",
    "                                      a1[\"End Time (s)\"],\n",
    "                                      a1[\"High Freq (Hz)\"],\n",
    "                                      a1[\"Low Freq (Hz)\"]),\n",
    "                                     (a2[\"Begin Time (s)\"],\n",
    "                                      a2[\"End Time (s)\"],\n",
    "                                      a2[\"High Freq (Hz)\"],\n",
    "                                      a2[\"Low Freq (Hz)\"]))\n",
    "            agreements[i2, i1] = agreements[i1, i2]\n",
    "    return agreements"
   ]
  },
  {
   "cell_type": "code",
   "execution_count": 8,
   "metadata": {},
   "outputs": [],
   "source": [
    "# Found at https://github.com/amusi/Non-Maximum-Suppression/blob/master/nms.py\n",
    "def nms(boxes, score, threshold=0.6):\n",
    "    # If no bounding boxes, return empty list\n",
    "    if len(boxes) == 0:\n",
    "        return []\n",
    "\n",
    "    # coordinates of bounding boxes\n",
    "    start_x = boxes[:, 0]\n",
    "    start_y = boxes[:, 1]\n",
    "    end_x = boxes[:, 2]\n",
    "    end_y = boxes[:, 3]\n",
    "\n",
    "    # Picked bounding boxes\n",
    "    picked = []\n",
    "\n",
    "    # Compute areas of bounding boxes\n",
    "    areas = (end_x - start_x + 1) * (end_y - start_y + 1)\n",
    "\n",
    "    # Sort by confidence score of bounding boxes\n",
    "    order = np.argsort(score)\n",
    "\n",
    "    # Iterate bounding boxes\n",
    "    while order.size > 0:\n",
    "        # The index of largest confidence score\n",
    "        index = order[-1]\n",
    "\n",
    "        # Pick the bounding box with largest confidence score\n",
    "        picked.append(index)\n",
    "\n",
    "        # Compute ordinates of intersection-over-union(IOU)\n",
    "        x1 = np.maximum(start_x[index], start_x[order[:-1]])\n",
    "        x2 = np.minimum(end_x[index], end_x[order[:-1]])\n",
    "        y1 = np.maximum(start_y[index], start_y[order[:-1]])\n",
    "        y2 = np.minimum(end_y[index], end_y[order[:-1]])\n",
    "\n",
    "        # Compute areas of intersection-over-union\n",
    "        w = np.maximum(0.0, x2 - x1 + 1)\n",
    "        h = np.maximum(0.0, y2 - y1 + 1)\n",
    "        intersection = w * h\n",
    "\n",
    "        # Compute the ratio between intersection and union\n",
    "        ratio = intersection / (areas[index] + areas[order[:-1]] - intersection)\n",
    "\n",
    "        left = np.where(ratio < threshold)\n",
    "        order = order[left]\n",
    "\n",
    "    print(\"Kept:\", len(picked), \"Total:\", len(boxes), \"Percent:\", len(picked)/len(boxes))\n",
    "        \n",
    "    return picked"
   ]
  },
  {
   "cell_type": "code",
   "execution_count": 9,
   "metadata": {},
   "outputs": [],
   "source": [
    "label_map_path = configs['eval_input_config'].label_map_path\n",
    "label_map = label_map_util.load_labelmap(label_map_path)\n",
    "categories = label_map_util.convert_label_map_to_categories(\n",
    "    label_map,\n",
    "    max_num_classes=label_map_util.get_max_label_map_index(label_map),\n",
    "    use_display_name=True)\n",
    "category_index = label_map_util.create_category_index(categories)\n",
    "label_map_dict = label_map_util.get_label_map_dict(label_map, use_display_name=True)\n",
    "label_id_offset = 1"
   ]
  },
  {
   "cell_type": "code",
   "execution_count": 10,
   "metadata": {},
   "outputs": [
    {
     "name": "stderr",
     "output_type": "stream",
     "text": [
      "\r",
      "  0%|          | 0/8628 [00:00<?, ?it/s]"
     ]
    },
    {
     "name": "stdout",
     "output_type": "stream",
     "text": [
      "INFO:tensorflow:depth of additional conv before box predictor: 0\n",
      "INFO:tensorflow:depth of additional conv before box predictor: 0\n",
      "INFO:tensorflow:depth of additional conv before box predictor: 0\n",
      "INFO:tensorflow:depth of additional conv before box predictor: 0\n",
      "INFO:tensorflow:depth of additional conv before box predictor: 0\n",
      "INFO:tensorflow:depth of additional conv before box predictor: 0\n"
     ]
    },
    {
     "name": "stderr",
     "output_type": "stream",
     "text": [
      "100%|██████████| 8628/8628 [02:40<00:00, 53.88it/s] \n"
     ]
    },
    {
     "name": "stdout",
     "output_type": "stream",
     "text": [
      "Kept: 10808 Total: 13495 Percent: 0.8008892182289737\n",
      "Kept: 12951 Total: 16196 Percent: 0.7996418868856507\n",
      "Kept: 2596 Total: 2921 Percent: 0.8887367339952071\n",
      "Kept: 3471 Total: 4134 Percent: 0.839622641509434\n",
      "Kept: 1461 Total: 1660 Percent: 0.8801204819277109\n",
      "Kept: 2879 Total: 3370 Percent: 0.8543026706231454\n"
     ]
    }
   ],
   "source": [
    "predictions = {}\n",
    "\n",
    "# Converts [0.0,1.0] box labels to the data's original Hz scale\n",
    "# Based on the maximum frequency represented and the mel transform\n",
    "def convert_to_hz(vals):\n",
    "    return librosa.mel_to_hz((1.0 - vals) * freq_axis_diff + freq_axis_low)\n",
    "\n",
    "for image_path in tqdm(eval_image_paths):\n",
    "    image_rec_id, image_index = tuple(path.basename(image_path)[:-4].split(\"-\"))\n",
    "    image_index = int(image_index)\n",
    "\n",
    "    image_np = load_image_into_numpy_array(image_path)\n",
    "    input_tensor = tf.convert_to_tensor(\n",
    "        np.expand_dims(image_np, 0), dtype=tf.float32)\n",
    "    detections, _, _ = detect_fn(input_tensor)\n",
    "    boxes = detections['detection_boxes'][0].numpy()\n",
    "    classes = (detections['detection_classes'][0].numpy() + label_id_offset).astype(int)\n",
    "    scores = detections['detection_scores'][0].numpy()\n",
    "    indices_to_keep = (scores > min_score)\n",
    "\n",
    "    if not indices_to_keep.any():\n",
    "        # No detections, skip to next image.\n",
    "        continue\n",
    "\n",
    "    boxes = boxes[indices_to_keep]\n",
    "    classes = classes[indices_to_keep]\n",
    "    scores = scores[indices_to_keep]\n",
    "    \n",
    "    # Boxes are in (ymin, xmin, ymax, xmax) order with origin at top left\n",
    "    pred_df = pd.DataFrame(\n",
    "        {\n",
    "            \"Begin Time (s)\": boxes[:, 1] * image_duration + (image_duration_step * image_index),\n",
    "            \"End Time (s)\": boxes[:, 3] * image_duration + (image_duration_step * image_index),\n",
    "            \"Low Freq (Hz)\": convert_to_hz(boxes[:, 2]),\n",
    "            \"High Freq (Hz)\": convert_to_hz(boxes[:, 0]),\n",
    "            \"Species\": np.array([category_index[c][\"name\"] for c in classes]),\n",
    "            \"Species Confidence\": scores\n",
    "        }\n",
    "    )\n",
    "\n",
    "    if image_rec_id not in predictions.keys():\n",
    "        predictions[image_rec_id] = [pred_df]\n",
    "    else:\n",
    "        predictions[image_rec_id].append(pred_df)\n",
    "    \n",
    "for rec_id, preds in predictions.items():\n",
    "    preds = pd.concat(preds)\n",
    "    boxes = preds[[\"Begin Time (s)\", \"Low Freq (Hz)\", \"End Time (s)\", \"High Freq (Hz)\"]].to_numpy()\n",
    "    box_indices = nms(boxes, preds[\"Species Confidence\"].to_numpy(), threshold=0.75)\n",
    "    preds = preds.iloc[box_indices]\n",
    "    preds.to_csv(\"{}-predictions.txt\".format(rec_id), sep=\"\\t\", index=False)"
   ]
  },
  {
   "cell_type": "code",
   "execution_count": 11,
   "metadata": {
    "scrolled": false
   },
   "outputs": [
    {
     "data": {
      "image/png": "[encoded data removed]",
      "text/plain": [
       "<Figure size 432x432 with 1 Axes>"
      ]
     },
     "metadata": {
      "needs_background": "light"
     },
     "output_type": "display_data"
    },
    {
     "data": {
      "image/png": "[encoded data removed]",
      "text/plain": [
       "<Figure size 432x432 with 1 Axes>"
      ]
     },
     "metadata": {
      "needs_background": "light"
     },
     "output_type": "display_data"
    },
    {
     "data": {
      "text/html": [
       "<div>\n",
       "<style scoped>\n",
       "    .dataframe tbody tr th:only-of-type {\n",
       "        vertical-align: middle;\n",
       "    }\n",
       "\n",
       "    .dataframe tbody tr th {\n",
       "        vertical-align: top;\n",
       "    }\n",
       "\n",
       "    .dataframe thead th {\n",
       "        text-align: right;\n",
       "    }\n",
       "</style>\n",
       "<table border=\"1\" class=\"dataframe\">\n",
       "  <thead>\n",
       "    <tr style=\"text-align: right;\">\n",
       "      <th></th>\n",
       "      <th>Threshold</th>\n",
       "      <th>Precision</th>\n",
       "      <th>Recall</th>\n",
       "      <th>F1</th>\n",
       "    </tr>\n",
       "  </thead>\n",
       "  <tbody>\n",
       "    <tr>\n",
       "      <th>0</th>\n",
       "      <td>1.000000</td>\n",
       "      <td>1.000000</td>\n",
       "      <td>0.000000</td>\n",
       "      <td>0.000000</td>\n",
       "    </tr>\n",
       "    <tr>\n",
       "      <th>1</th>\n",
       "      <td>0.973401</td>\n",
       "      <td>1.000000</td>\n",
       "      <td>0.000195</td>\n",
       "      <td>0.000390</td>\n",
       "    </tr>\n",
       "    <tr>\n",
       "      <th>2</th>\n",
       "      <td>0.944450</td>\n",
       "      <td>1.000000</td>\n",
       "      <td>0.000390</td>\n",
       "      <td>0.000780</td>\n",
       "    </tr>\n",
       "    <tr>\n",
       "      <th>3</th>\n",
       "      <td>0.941980</td>\n",
       "      <td>1.000000</td>\n",
       "      <td>0.000585</td>\n",
       "      <td>0.001170</td>\n",
       "    </tr>\n",
       "    <tr>\n",
       "      <th>4</th>\n",
       "      <td>0.941667</td>\n",
       "      <td>1.000000</td>\n",
       "      <td>0.000780</td>\n",
       "      <td>0.001559</td>\n",
       "    </tr>\n",
       "    <tr>\n",
       "      <th>...</th>\n",
       "      <td>...</td>\n",
       "      <td>...</td>\n",
       "      <td>...</td>\n",
       "      <td>...</td>\n",
       "    </tr>\n",
       "    <tr>\n",
       "      <th>25994</th>\n",
       "      <td>0.233680</td>\n",
       "      <td>0.197199</td>\n",
       "      <td>0.999805</td>\n",
       "      <td>0.329424</td>\n",
       "    </tr>\n",
       "    <tr>\n",
       "      <th>25995</th>\n",
       "      <td>0.233675</td>\n",
       "      <td>0.197192</td>\n",
       "      <td>0.999805</td>\n",
       "      <td>0.329413</td>\n",
       "    </tr>\n",
       "    <tr>\n",
       "      <th>25996</th>\n",
       "      <td>0.233666</td>\n",
       "      <td>0.197184</td>\n",
       "      <td>0.999805</td>\n",
       "      <td>0.329403</td>\n",
       "    </tr>\n",
       "    <tr>\n",
       "      <th>25997</th>\n",
       "      <td>0.233659</td>\n",
       "      <td>0.197177</td>\n",
       "      <td>0.999805</td>\n",
       "      <td>0.329392</td>\n",
       "    </tr>\n",
       "    <tr>\n",
       "      <th>25998</th>\n",
       "      <td>0.233656</td>\n",
       "      <td>0.197207</td>\n",
       "      <td>1.000000</td>\n",
       "      <td>0.329446</td>\n",
       "    </tr>\n",
       "  </tbody>\n",
       "</table>\n",
       "<p>25999 rows × 4 columns</p>\n",
       "</div>"
      ],
      "text/plain": [
       "       Threshold  Precision    Recall        F1\n",
       "0       1.000000   1.000000  0.000000  0.000000\n",
       "1       0.973401   1.000000  0.000195  0.000390\n",
       "2       0.944450   1.000000  0.000390  0.000780\n",
       "3       0.941980   1.000000  0.000585  0.001170\n",
       "4       0.941667   1.000000  0.000780  0.001559\n",
       "...          ...        ...       ...       ...\n",
       "25994   0.233680   0.197199  0.999805  0.329424\n",
       "25995   0.233675   0.197192  0.999805  0.329413\n",
       "25996   0.233666   0.197184  0.999805  0.329403\n",
       "25997   0.233659   0.197177  0.999805  0.329392\n",
       "25998   0.233656   0.197207  1.000000  0.329446\n",
       "\n",
       "[25999 rows x 4 columns]"
      ]
     },
     "execution_count": 11,
     "metadata": {},
     "output_type": "execute_result"
    }
   ],
   "source": [
    "def read_annotations(fname, verbose=False):\n",
    "    annotations = pd.read_csv(fname, sep=\"\\t\")\n",
    "    if verbose:\n",
    "        print(\"Read {} annotations from {}\".format(len(annotations), fname))\n",
    "        print(\"Columns:\", \",\".join([\" {} ({})\".format(c, type(c)) for c in annotations.columns]))\n",
    "    return annotations\n",
    "\n",
    "\n",
    "def get_scores_and_pairings(preds_fname, annots_fname, iou_thresh, cls=\"hb\"):\n",
    "    preds = read_annotations(preds_fname)\n",
    "    annots = read_annotations(annots_fname)\n",
    "    annots = annots.loc[annots[\"Species\"] == cls]\n",
    "    agreements = np.zeros((len(preds), len(annots)))\n",
    "    for i in range(len(preds)):\n",
    "        pred_box = preds.iloc[i]\n",
    "        mask = ((annots[\"Begin Time (s)\"] > pred_box[\"End Time (s)\"])\n",
    "                | (annots[\"End Time (s)\"] < pred_box[\"Begin Time (s)\"]))\n",
    "        for j in (~mask).to_numpy().nonzero()[0]:\n",
    "            annot_box = annots.iloc[j]\n",
    "            agreements[i, j] = IOU((pred_box[\"Begin Time (s)\"],\n",
    "                                    pred_box[\"End Time (s)\"],\n",
    "                                    pred_box[\"High Freq (Hz)\"],\n",
    "                                    pred_box[\"Low Freq (Hz)\"]),\n",
    "                                   (annot_box[\"Begin Time (s)\"],\n",
    "                                    annot_box[\"End Time (s)\"],\n",
    "                                    annot_box[\"High Freq (Hz)\"],\n",
    "                                    annot_box[\"Low Freq (Hz)\"]))\n",
    "    \n",
    "    \n",
    "    \n",
    "    # return scores, has_pairing\n",
    "    return preds[\"Species Confidence\"], (agreements.max(axis=1) > iou_thresh), len(annots)\n",
    "\n",
    "\n",
    "def render_ROC_curve(paired_fnames, thresholds=None, iou_thresh=0.5, save_name=None):\n",
    "    if thresholds is None:\n",
    "        thresholds = np.linspace(min_score, 1.0, num=40)\n",
    "    \n",
    "    all_scores, all_correct = [], []\n",
    "    total_pos = 0\n",
    "    for (preds_fname, annots_fname) in paired_fnames:\n",
    "        scores, correct, n_pos = get_scores_and_pairings(preds_fname, annots_fname, iou_thresh)\n",
    "        all_scores.append(scores)\n",
    "        all_correct.append(correct)\n",
    "        total_pos += n_pos\n",
    "    all_scores = np.hstack(all_scores)\n",
    "    all_correct = np.hstack(all_correct)\n",
    "    \n",
    "    # Sort by scores decreasing\n",
    "    sort_indices = np.argsort(all_scores)[::-1]\n",
    "    all_scores = all_scores[sort_indices]\n",
    "    all_correct = all_correct[sort_indices]\n",
    "    tps,fps = 0,0\n",
    "    AP = 0.0\n",
    "    precisions = [1.0]\n",
    "    recalls = [0.0]\n",
    "    thresholds = [1.0]\n",
    "    prev_score = 1.0\n",
    "    for score, correct in zip(all_scores, all_correct):\n",
    "        if correct == 1.0:\n",
    "            tps += 1\n",
    "        else:\n",
    "            fps += 1\n",
    "        precisions.append(tps / (tps + fps))\n",
    "        recalls.append(tps / total_pos)\n",
    "        thresholds.append((prev_score + score) / 2)\n",
    "        prev_score = score\n",
    "        AP += (recalls[-1] - recalls[-2]) * precisions[-1]\n",
    "        if tps == total_pos:\n",
    "            break\n",
    "    \n",
    "    precisions = np.array(precisions)\n",
    "    recalls = np.array(recalls)\n",
    "    f1_scores = (2 * recalls * precisions) / (recalls + precisions + 1e-12)\n",
    "    \n",
    "    plt.figure(figsize=(6,6))\n",
    "    plt.plot(recalls, precisions)\n",
    "    plt.xlim(0.0, 1.0)\n",
    "    plt.ylim(0.0, 1.0)\n",
    "    plt.title(\"PR Curve (AP = {:g})\".format(AP))\n",
    "    plt.xlabel(\"Recall\")\n",
    "    plt.ylabel(\"Precision\")\n",
    "    plt.show()\n",
    "    \n",
    "    if save_name is not None:\n",
    "        plt.savefig(save_name)\n",
    "        \n",
    "    plt.figure(figsize=(6,6))\n",
    "    plt.plot(thresholds, f1_scores)\n",
    "    plt.title(\"F1 Curve\")\n",
    "    plt.xlabel(\"Threshold\")\n",
    "    plt.ylabel(\"F1 Score\")\n",
    "    plt.show()\n",
    "    \n",
    "    return pd.DataFrame({\n",
    "        \"Threshold\": thresholds,\n",
    "        \"Precision\": precisions,\n",
    "        \"Recall\": recalls,\n",
    "        \"F1\": f1_scores\n",
    "    }), all_scores, all_correct\n",
    "\n",
    "eval_ids\n",
    "fnames = [\n",
    "    (\"671658014.180928183606-predictions.txt\",\n",
    "     \"/home/jackson/Projects/marine-acoustics-2021/data/671658014.180928183606-AW.txt\"),\n",
    "    (\"671658014.180928213604-predictions.txt\",\n",
    "     \"/home/jackson/Projects/marine-acoustics-2021/data/671658014.180928213604-MS.txt\"),\n",
    "    (\"671658014.180929063556-predictions.txt\",\n",
    "     \"/home/jackson/Projects/marine-acoustics-2021/data/671658014.180929063556-MS.txt\"),\n",
    "    (\"671658014.180929093553-predictions.txt\",\n",
    "     \"/home/jackson/Projects/marine-acoustics-2021/data/671658014.180929093553-MS.txt\"),\n",
    "    (\"671658014.180929183547-predictions.txt\",\n",
    "     \"/home/jackson/Projects/marine-acoustics-2021/data/671658014.180929183547-MS.txt\"),\n",
    "    (\"671658014.180930153534-predictions.txt\",\n",
    "     \"/home/jackson/Projects/marine-acoustics-2021/data/671658014.180930153534-AW.txt\")\n",
    "]\n",
    "\n",
    "res, scores, correct = render_ROC_curve(fnames)\n",
    "res"
   ]
  },
  {
   "cell_type": "code",
   "execution_count": 12,
   "metadata": {},
   "outputs": [
    {
     "data": {
      "text/html": [
       "<div>\n",
       "<style scoped>\n",
       "    .dataframe tbody tr th:only-of-type {\n",
       "        vertical-align: middle;\n",
       "    }\n",
       "\n",
       "    .dataframe tbody tr th {\n",
       "        vertical-align: top;\n",
       "    }\n",
       "\n",
       "    .dataframe thead th {\n",
       "        text-align: right;\n",
       "    }\n",
       "</style>\n",
       "<table border=\"1\" class=\"dataframe\">\n",
       "  <thead>\n",
       "    <tr style=\"text-align: right;\">\n",
       "      <th></th>\n",
       "      <th>Threshold</th>\n",
       "      <th>Precision</th>\n",
       "      <th>Recall</th>\n",
       "      <th>F1</th>\n",
       "    </tr>\n",
       "  </thead>\n",
       "  <tbody>\n",
       "    <tr>\n",
       "      <th>5496</th>\n",
       "      <td>0.560594</td>\n",
       "      <td>0.485444</td>\n",
       "      <td>0.520382</td>\n",
       "      <td>0.502306</td>\n",
       "    </tr>\n",
       "  </tbody>\n",
       "</table>\n",
       "</div>"
      ],
      "text/plain": [
       "      Threshold  Precision    Recall        F1\n",
       "5496   0.560594   0.485444  0.520382  0.502306"
      ]
     },
     "execution_count": 12,
     "metadata": {},
     "output_type": "execute_result"
    }
   ],
   "source": [
    "res.loc[res[\"F1\"] == res[\"F1\"].max()]"
   ]
  },
  {
   "cell_type": "code",
   "execution_count": 13,
   "metadata": {},
   "outputs": [
    {
     "data": {
      "text/plain": [
       "<AxesSubplot:ylabel='Frequency'>"
      ]
     },
     "execution_count": 13,
     "metadata": {},
     "output_type": "execute_result"
    },
    {
     "data": {
      "image/png": "[encoded data removed]",
      "text/plain": [
       "<Figure size 432x288 with 1 Axes>"
      ]
     },
     "metadata": {
      "needs_background": "light"
     },
     "output_type": "display_data"
    }
   ],
   "source": [
    "res[\"Threshold\"].plot.hist(bins=100)"
   ]
  },
  {
   "cell_type": "code",
   "execution_count": 14,
   "metadata": {},
   "outputs": [
    {
     "data": {
      "image/png": "[encoded data removed]",
      "text/plain": [
       "<Figure size 432x288 with 1 Axes>"
      ]
     },
     "metadata": {
      "needs_background": "light"
     },
     "output_type": "display_data"
    }
   ],
   "source": [
    "plt.hist(scores[correct == 1.0], bins=100, alpha=0.5)\n",
    "plt.hist(scores[correct == 0.0], bins=100, alpha=0.5)\n",
    "plt.show()"
   ]
  },
  {
   "cell_type": "code",
   "execution_count": null,
   "metadata": {},
   "outputs": [],
   "source": []
  }
 ],
 "metadata": {
  "kernelspec": {
   "display_name": "Python 3",
   "language": "python",
   "name": "python3"
  },
  "language_info": {
   "codemirror_mode": {
    "name": "ipython",
    "version": 3
   },
   "file_extension": ".py",
   "mimetype": "text/x-python",
   "name": "python",
   "nbconvert_exporter": "python",
   "pygments_lexer": "ipython3",
   "version": "3.8.10"
  }
 },
 "nbformat": 4,
 "nbformat_minor": 4
}
