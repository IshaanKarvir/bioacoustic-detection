{
 "cells": [
  {
   "cell_type": "code",
   "execution_count": 13,
   "metadata": {},
   "outputs": [],
   "source": [
    "import pandas as pd\n",
    "import glob\n",
    "from os import path\n",
    "\n",
    "from matplotlib import pyplot as plt"
   ]
  },
  {
   "cell_type": "code",
   "execution_count": 14,
   "metadata": {},
   "outputs": [],
   "source": [
    "left_col, right_col = \"Begin Time (s)\", \"End Time (s)\"\n",
    "top_col, bot_col = \"High Freq (Hz)\", \"Low Freq (Hz)\"\n",
    "class_col, class_conf_col = \"Species\", \"Species Confidence\""
   ]
  },
  {
   "cell_type": "code",
   "execution_count": 15,
   "metadata": {},
   "outputs": [],
   "source": [
    "def get_all_annotations_in_directory(directory=\"/home/jackson/Downloads\"):\n",
    "    return glob.glob(path.join(directory, \"*.*-*.txt\"))"
   ]
  },
  {
   "cell_type": "code",
   "execution_count": 16,
   "metadata": {},
   "outputs": [
    {
     "data": {
      "text/plain": [
       "['/home/jackson/Downloads/671658014.180930003542-AW.txt',\n",
       " '/home/jackson/Downloads/671658014.180929123551-AW.txt']"
      ]
     },
     "execution_count": 16,
     "metadata": {},
     "output_type": "execute_result"
    }
   ],
   "source": [
    "annot_filepaths = get_all_annotations_in_directory()\n",
    "annot_filepaths"
   ]
  },
  {
   "cell_type": "code",
   "execution_count": 17,
   "metadata": {},
   "outputs": [],
   "source": [
    "def read_annotations(fname, verbose=False):\n",
    "    annotations = pd.read_csv(fname, sep=\"\\t\")\n",
    "    if verbose:\n",
    "        print(\"Read {} annotations from {}\".format(len(annotations), fname))\n",
    "        print(\"Columns:\", \",\".join([\" {} ({})\".format(c, type(c)) for c in annotations.columns]))\n",
    "    return annotations\n",
    "\n",
    "\n",
    "def save_annotations(annots, fname, verbose=False):\n",
    "    annots.to_csv(fname, index=False, sep=\"\\t\", float_format='%g')\n",
    "    if verbose:\n",
    "        print(\"Saved {} annotations to {}\".format(len(annots), fname))"
   ]
  },
  {
   "cell_type": "code",
   "execution_count": 18,
   "metadata": {},
   "outputs": [],
   "source": [
    "required_columns = [\n",
    "    \"Species\",\n",
    "    \"Begin Time (s)\",\n",
    "    \"End Time (s)\",\n",
    "    \"Low Freq (Hz)\",\n",
    "    \"High Freq (Hz)\"\n",
    "]\n",
    "\n",
    "columns_to_save = [\n",
    "    \"Selection\",\n",
    "    \"View\",\n",
    "    \"Channel\",\n",
    "    \"Begin Time (s)\",\n",
    "    \"End Time (s)\",\n",
    "    \"Low Freq (Hz)\",\n",
    "    \"High Freq (Hz)\",\n",
    "    \"Species\",\n",
    "    \"Species Confidence\",\n",
    "    \"Call Uncertainty\"\n",
    "]\n",
    "\n",
    "class_map = {\n",
    "    \"Humpback Whale\": \"hb\",\n",
    "    \"humpback whale\": \"hb\",\n",
    "    \"Sea Lion\": \"sl\",\n",
    "    \"sea lion\": \"sl\",\n",
    "    \"sl\": \"sl\",\n",
    "    \"hb whale\": \"hb\",\n",
    "    \"hb?\": \"hb\",\n",
    "    \"hhb\": \"hb\",\n",
    "    \"hb\": \"hb\",\n",
    "    \"jn\": \"hb\",\n",
    "    \"rf\": \"rf\",\n",
    "    \"?\": \"?\",\n",
    "    \"mech\": \"?\",\n",
    "    \"mechanical\": \"?\"\n",
    "}"
   ]
  },
  {
   "cell_type": "code",
   "execution_count": 27,
   "metadata": {},
   "outputs": [
    {
     "name": "stdout",
     "output_type": "stream",
     "text": [
      "Read 565 annotations from /home/jackson/Downloads/671658014.180929123551-AW.txt\n",
      "Columns:  Selection (<class 'str'>), View (<class 'str'>), Channel (<class 'str'>), Begin Time (s) (<class 'str'>), End Time (s) (<class 'str'>), Low Freq (Hz) (<class 'str'>), High Freq (Hz) (<class 'str'>), Species (<class 'str'>), Species Confidence (<class 'str'>), Call uncertainty (<class 'str'>)\n"
     ]
    }
   ],
   "source": [
    "annotation_filepath = annot_filepaths[1]\n",
    "annotations = read_annotations(annotation_filepath, verbose=True)\n",
    "#annotations[\"Species Confidence\"] = 5.0\n",
    "#annotations[\"Call Uncertainty\"] = 0.0\n",
    "#annotations[\"Species Confidence\"] = annotations[\"Species confidence\"]\n",
    "annotations[\"Call Uncertainty\"] = annotations[\"Call uncertainty\"]\n",
    "annotations.loc[annotations[\"Species Confidence\"].isna(), \"Species Confidence\"] = 5.0\n",
    "annotations.loc[annotations[\"Species Confidence\"] == 13.0, \"Species Confidence\"] = 3.0\n",
    "annotations.loc[annotations[\"Species Confidence\"] == 14.0, \"Species Confidence\"] = 4.0\n",
    "annotations.loc[annotations[\"Species Confidence\"] == 44.0, \"Species Confidence\"] = 4.0\n",
    "annotations.loc[annotations[\"Species Confidence\"] == 33.0, \"Species Confidence\"] = 3.0\n",
    "#annotations[\"Call Uncertainty\"] = annotations[\"Call Certainty\"]\n",
    "annotations.loc[annotations[\"Call Uncertainty\"].isna(), \"Call Uncertainty\"] = 0.0\n",
    "annotations.loc[annotations[\"Call Uncertainty\"] > 1.0, \"Call Uncertainty\"] = 1.0\n",
    "#annotations[\"Species\"] = annotations[\"species\"]\n",
    "annotations[\"Species\"] = annotations[\"Species\"].map(class_map)\n",
    "annotations.dropna(subset=required_columns, how=\"any\", inplace=True)"
   ]
  },
  {
   "cell_type": "code",
   "execution_count": 28,
   "metadata": {},
   "outputs": [],
   "source": [
    "def get_area(annotation):\n",
    "    return ((annotation[right_col] - annotation[left_col])\n",
    "            * (annotation[top_col] - annotation[bot_col]))"
   ]
  },
  {
   "cell_type": "code",
   "execution_count": 29,
   "metadata": {},
   "outputs": [
    {
     "data": {
      "text/plain": [
       "count     564.000000\n",
       "mean      377.103724\n",
       "std       584.325426\n",
       "min        32.605927\n",
       "25%       153.896261\n",
       "50%       256.224880\n",
       "75%       408.844731\n",
       "max      7929.498336\n",
       "Name: area, dtype: float64"
      ]
     },
     "execution_count": 29,
     "metadata": {},
     "output_type": "execute_result"
    }
   ],
   "source": [
    "areas = []\n",
    "for i in range(len(annotations)):\n",
    "    areas.append(get_area(annotations.iloc[i]))\n",
    "annotations[\"area\"] = pd.Series(areas, index=annotations.index)\n",
    "annotations[\"area\"].describe()"
   ]
  },
  {
   "cell_type": "code",
   "execution_count": 30,
   "metadata": {},
   "outputs": [
    {
     "data": {
      "text/html": [
       "<div>\n",
       "<style scoped>\n",
       "    .dataframe tbody tr th:only-of-type {\n",
       "        vertical-align: middle;\n",
       "    }\n",
       "\n",
       "    .dataframe tbody tr th {\n",
       "        vertical-align: top;\n",
       "    }\n",
       "\n",
       "    .dataframe thead th {\n",
       "        text-align: right;\n",
       "    }\n",
       "</style>\n",
       "<table border=\"1\" class=\"dataframe\">\n",
       "  <thead>\n",
       "    <tr style=\"text-align: right;\">\n",
       "      <th></th>\n",
       "      <th>Selection</th>\n",
       "      <th>View</th>\n",
       "      <th>Channel</th>\n",
       "      <th>Begin Time (s)</th>\n",
       "      <th>End Time (s)</th>\n",
       "      <th>Low Freq (Hz)</th>\n",
       "      <th>High Freq (Hz)</th>\n",
       "      <th>Species</th>\n",
       "      <th>Species Confidence</th>\n",
       "      <th>Call uncertainty</th>\n",
       "      <th>Call Uncertainty</th>\n",
       "      <th>area</th>\n",
       "    </tr>\n",
       "  </thead>\n",
       "  <tbody>\n",
       "  </tbody>\n",
       "</table>\n",
       "</div>"
      ],
      "text/plain": [
       "Empty DataFrame\n",
       "Columns: [Selection, View, Channel, Begin Time (s), End Time (s), Low Freq (Hz), High Freq (Hz), Species, Species Confidence, Call uncertainty, Call Uncertainty, area]\n",
       "Index: []"
      ]
     },
     "execution_count": 30,
     "metadata": {},
     "output_type": "execute_result"
    }
   ],
   "source": [
    "annotations.loc[annotations[\"area\"] == 0.0]"
   ]
  },
  {
   "cell_type": "code",
   "execution_count": null,
   "metadata": {},
   "outputs": [],
   "source": [
    "annotations.drop(2, inplace=True)"
   ]
  },
  {
   "cell_type": "code",
   "execution_count": 31,
   "metadata": {},
   "outputs": [],
   "source": [
    "annotations.drop(\"area\", axis=1, inplace=True)"
   ]
  },
  {
   "cell_type": "code",
   "execution_count": 32,
   "metadata": {},
   "outputs": [
    {
     "name": "stdout",
     "output_type": "stream",
     "text": [
      "Number of Annotations:  564\n"
     ]
    },
    {
     "data": {
      "image/png": "[encoded data removed]",
      "text/plain": [
       "<Figure size 432x288 with 1 Axes>"
      ]
     },
     "metadata": {
      "needs_background": "light"
     },
     "output_type": "display_data"
    },
    {
     "data": {
      "image/png": "[encoded data removed]",
      "text/plain": [
       "<Figure size 432x288 with 1 Axes>"
      ]
     },
     "metadata": {
      "needs_background": "light"
     },
     "output_type": "display_data"
    },
    {
     "data": {
      "image/png": "[encoded data removed]",
      "text/plain": [
       "<Figure size 432x288 with 1 Axes>"
      ]
     },
     "metadata": {
      "needs_background": "light"
     },
     "output_type": "display_data"
    }
   ],
   "source": [
    "def summarize_annotations(annots):\n",
    "    print(\"Number of Annotations: \", len(annots))\n",
    "    annots[\"Species\"].value_counts(dropna=False).plot.bar(title=\"Species Distribution\")\n",
    "    plt.show()\n",
    "    annots[\"Species Confidence\"].value_counts(dropna=False).plot.bar(title=\"Species Confidence Distribution\")\n",
    "    plt.show()\n",
    "    annots[\"Call Uncertainty\"].value_counts(dropna=False).plot.bar(title=\"Call Uncertainty Distribution\")\n",
    "    plt.show()\n",
    "summarize_annotations(annotations)"
   ]
  },
  {
   "cell_type": "code",
   "execution_count": 33,
   "metadata": {},
   "outputs": [],
   "source": [
    "save_annotations(annotations[columns_to_save], annotation_filepath+\"_rev\")"
   ]
  },
  {
   "cell_type": "code",
   "execution_count": null,
   "metadata": {},
   "outputs": [],
   "source": []
  }
 ],
 "metadata": {
  "kernelspec": {
   "display_name": "Python 3",
   "language": "python",
   "name": "python3"
  },
  "language_info": {
   "codemirror_mode": {
    "name": "ipython",
    "version": 3
   },
   "file_extension": ".py",
   "mimetype": "text/x-python",
   "name": "python",
   "nbconvert_exporter": "python",
   "pygments_lexer": "ipython3",
   "version": "3.8.10"
  }
 },
 "nbformat": 4,
 "nbformat_minor": 4
}
