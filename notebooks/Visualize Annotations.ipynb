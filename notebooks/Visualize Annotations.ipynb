{
 "cells": [
  {
   "cell_type": "code",
   "execution_count": null,
   "metadata": {},
   "outputs": [],
   "source": [
    "import math\n",
    "import pandas as pd\n",
    "import numpy as np\n",
    "import librosa\n",
    "import librosa.display\n",
    "import matplotlib.pyplot as plt\n",
    "from matplotlib.patches import Rectangle\n",
    "from scipy.io import wavfile\n",
    "from collections import OrderedDict\n",
    "from tqdm import tqdm"
   ]
  },
  {
   "cell_type": "code",
   "execution_count": null,
   "metadata": {},
   "outputs": [],
   "source": [
    "left_col, right_col = \"Begin Time (s)\", \"End Time (s)\"\n",
    "top_col, bot_col = \"High Freq (Hz)\", \"Low Freq (Hz)\""
   ]
  },
  {
   "cell_type": "code",
   "execution_count": null,
   "metadata": {},
   "outputs": [],
   "source": [
    "recording_name = \"671658014.180929033558\"\n",
    "wav_name = \"../data/{}_norm_8k-resample.wav\".format(recording_name)\n",
    "initials = \"JW\"\n",
    "\n",
    "annotations = pd.read_csv(\"../data/{}-{}-Raven_fixes.txt\".format(recording_name, initials), sep=\"\\t\")\n",
    "annotations[\"Species+Index\"] = annotations[\"Species\"].str.cat(annotations.index.astype(str))\n",
    "annotations"
   ]
  },
  {
   "cell_type": "code",
   "execution_count": null,
   "metadata": {},
   "outputs": [],
   "source": [
    "annotations = annotations.loc[annotations[\"View\"] == \"Spectrogram 1\"]\n",
    "annotations = annotations.drop(\"Species+Index\", axis=1)"
   ]
  },
  {
   "cell_type": "code",
   "execution_count": null,
   "metadata": {},
   "outputs": [],
   "source": [
    "# Visualize Distribution of Box Heights and Widths\n",
    "def visualize_dimensions(annotations, bins=100):\n",
    "    annotation_heights = annotations[top_col] - annotations[bot_col]\n",
    "    annotation_widths = annotations[right_col] - annotations[left_col]\n",
    "    plt.hist2d(annotation_widths, annotation_heights, bins=bins)\n",
    "    plt.title(\"Distribution of Box Dimensions\")\n",
    "    plt.xlabel(\"Box Width (s)\")\n",
    "    plt.ylabel(\"Box Height (Hz)\")\n",
    "    plt.show()\n",
    "    plt.close()\n",
    "    \n",
    "visualize_dimensions(annotations)"
   ]
  },
  {
   "cell_type": "code",
   "execution_count": null,
   "metadata": {},
   "outputs": [],
   "source": [
    "# TODO: measure speed of different fns for opening wav files\n",
    "def read_wavfile(wav_name, normalize=True, verbose=False):\n",
    "    if verbose:\n",
    "        print(\"Reading {}\".format(wav_name))\n",
    "    sr, data = wavfile.read(wav_name)\n",
    "    if verbose:\n",
    "        print(\"{} samples at {} samples/sec --> {} seconds\".format(data.shape[0], sr, data.shape[0]/sr))\n",
    "\n",
    "    if normalize:\n",
    "        data = data.astype(float)\n",
    "        data = data - data.min()\n",
    "        data = data / data.max()\n",
    "        data = data - 0.5\n",
    "    \n",
    "    return sr, data\n",
    "\n",
    "samplerate, data = read_wavfile(wav_name, verbose=True)"
   ]
  },
  {
   "cell_type": "code",
   "execution_count": null,
   "metadata": {},
   "outputs": [],
   "source": [
    "def plot_annotated_mel_spec(data, samplerate, annotations, cls_col=None, bounds=None, n_fft=1200, hop_length=20,\n",
    "                            n_mels=400, fmax=1600, adjust_fmax=True, figsize=(15, 5), buffer_s=0.125,\n",
    "                            title=None):\n",
    "    # Extract annotation bounds\n",
    "    if bounds is None:\n",
    "        start_s = annotations[left_col].min() - buffer_s\n",
    "        end_s = annotations[right_col].max() + buffer_s\n",
    "    else:\n",
    "        start_s, end_s = bounds\n",
    "    start_s, end_s = max(start_s, 0.0), min(end_s, len(data)/samplerate)\n",
    "    observed_max = annotations[top_col].max()\n",
    "    if adjust_fmax and observed_max > fmax:\n",
    "        new_fmax = observed_max*1.1\n",
    "        print(\"Annotations extend above frequency max of {} Hz, increasing to {:g} Hz.\".format(fmax, new_fmax))\n",
    "        fmax = new_fmax\n",
    "    shift = math.ceil(n_fft/2)\n",
    "    start_i, end_i = int(math.floor(start_s*samplerate) - shift), int(math.ceil(end_s*samplerate) + shift)\n",
    "    if start_i < 0:\n",
    "        print(\"Start Index < 0! Setting to 0 instead.\")\n",
    "        start_i = 0\n",
    "        start_s = (start_i + shift) / samplerate\n",
    "    if end_i >= len(data):\n",
    "        print(\"End Index > length of sequence. Setting to end of sequence instead.\")\n",
    "        end_i = len(data)-1\n",
    "        end_s = (end_i - shift) / samplerate\n",
    "    \n",
    "    # Compute & Draw Mel Spectrogram\n",
    "    mel_spec = librosa.feature.melspectrogram(y=data[start_i:end_i],\n",
    "                                              sr=samplerate,\n",
    "                                              n_fft=n_fft,\n",
    "                                              hop_length=hop_length,\n",
    "                                              n_mels=n_mels,\n",
    "                                              fmax=fmax,\n",
    "                                              center=False)\n",
    "    S_dB = librosa.power_to_db(mel_spec, ref=np.max)\n",
    "    plt.figure(figsize=figsize)\n",
    "    librosa.display.specshow(S_dB,\n",
    "                             x_axis='time',\n",
    "                             y_axis='mel',\n",
    "                             sr=samplerate,\n",
    "                             hop_length=hop_length,\n",
    "                             fmax=fmax)\n",
    "    \n",
    "    # Draw Annotations\n",
    "    ax = plt.gca()\n",
    "    if cls_col is not None:\n",
    "        classes = annotations[cls_col].unique()\n",
    "    else:\n",
    "        classes = [\"NA\"]\n",
    "    colors = plt.cm.get_cmap(\"hsv\")\n",
    "    class_colors = {classes[c]: colors(c / (len(classes)+1)) for c in range(len(classes))}\n",
    "    for b_i in annotations.index:\n",
    "        box = annotations.loc[b_i]\n",
    "        left, right, top, bot = box[left_col], box[right_col], \\\n",
    "                                box[top_col], max(box[bot_col], 5)\n",
    "        if cls_col is not None:\n",
    "            cls = box[cls_col]\n",
    "        else:\n",
    "            cls = \"NA\"\n",
    "        \n",
    "        rect = Rectangle((left - start_s, bot), # X,Y of bottom left\n",
    "                         right-left, # Width\n",
    "                         top-bot, # Height\n",
    "                         linewidth=2,\n",
    "                         edgecolor=class_colors[cls],\n",
    "                         facecolor='none',\n",
    "                         label=cls)\n",
    "        ax.add_patch(rect)\n",
    "    \n",
    "    # Decorate Plot\n",
    "    y_ticks = [64]\n",
    "    while y_ticks[-1] * 2 < fmax:\n",
    "        y_ticks.append(y_ticks[-1] * 2)\n",
    "    x_ticks = np.linspace(0.0, end_s - start_s, num=15)\n",
    "    x_tick_labels = [\"{:.3f}\".format(t) for t in (x_ticks+start_s)]\n",
    "    plt.xticks(x_ticks, x_tick_labels)\n",
    "    plt.yticks(y_ticks)\n",
    "    plt.xlim([0.0, end_s - start_s])\n",
    "    plt.xlabel(\"Time (Seconds)\")\n",
    "    plt.ylabel(\"Frequency (Hz)\")\n",
    "    if title is None:\n",
    "        plt.title(\"Mel Spectrogram\")\n",
    "    else:\n",
    "        plt.title(\"Mel Spectrogram ({})\".format(title))\n",
    "    if cls_col is not None:\n",
    "        handles, labels = plt.gca().get_legend_handles_labels()\n",
    "        by_label = OrderedDict(zip(labels, handles))\n",
    "        plt.legend(by_label.values(), by_label.keys(), loc='upper right')\n",
    "    plt.show()\n",
    "    plt.close()"
   ]
  },
  {
   "cell_type": "code",
   "execution_count": null,
   "metadata": {},
   "outputs": [],
   "source": [
    "# Scans through all annotations and visualizes in 30-second blocks\n",
    "def visualize_all_annotations(annotations, data, samplerate,\n",
    "                              block_size=30, step_size=20, n_fft=4096, hop_length=64,\n",
    "                              n_mels=512, fmax=1600, adjust_fmax=True, figsize=(15, 5)):\n",
    "    file_length = len(data) / samplerate\n",
    "    start = 0\n",
    "    while start < file_length:\n",
    "        mask = ~((annotations[left_col] > start+block_size) | (annotations[right_col] < start))\n",
    "        plot_annotated_mel_spec(data, samplerate,\n",
    "                                annotations.loc[mask],\n",
    "                                bounds=[start, start+block_size],\n",
    "                                buffer_s=0.0,\n",
    "                                cls_col=\"Species+Index\")\n",
    "        start += step_size"
   ]
  },
  {
   "cell_type": "code",
   "execution_count": null,
   "metadata": {
    "scrolled": false
   },
   "outputs": [],
   "source": [
    "visualize_all_annotations(annotations, data, samplerate)"
   ]
  },
  {
   "cell_type": "code",
   "execution_count": null,
   "metadata": {},
   "outputs": [],
   "source": []
  }
 ],
 "metadata": {
  "kernelspec": {
   "display_name": "Python 3",
   "language": "python",
   "name": "python3"
  },
  "language_info": {
   "codemirror_mode": {
    "name": "ipython",
    "version": 3
   },
   "file_extension": ".py",
   "mimetype": "text/x-python",
   "name": "python",
   "nbconvert_exporter": "python",
   "pygments_lexer": "ipython3",
   "version": "3.8.5"
  }
 },
 "nbformat": 4,
 "nbformat_minor": 4
}
